{
 "cells": [
  {
   "cell_type": "code",
   "execution_count": 36,
   "id": "e82d1f3b",
   "metadata": {},
   "outputs": [],
   "source": [
    "import pandas as pd\n",
    "import joblib\n",
    "from joblib import load\n",
    "from sklearn.model_selection import train_test_split\n",
    "from sklearn.metrics import classification_report\n",
    "from sklearn.pipeline import make_pipeline\n",
    "from sklearn.feature_extraction.text import TfidfVectorizer\n",
    "from sklearn.naive_bayes import BernoulliNB\n",
    "import re"
   ]
  },
  {
   "cell_type": "code",
   "execution_count": 107,
   "id": "ecef44cd",
   "metadata": {},
   "outputs": [],
   "source": [
    "df = pd.read_csv('sorted.csv')"
   ]
  },
  {
   "cell_type": "code",
   "execution_count": 108,
   "id": "b3001b24",
   "metadata": {},
   "outputs": [
    {
     "data": {
      "text/html": [
       "<div>\n",
       "<style scoped>\n",
       "    .dataframe tbody tr th:only-of-type {\n",
       "        vertical-align: middle;\n",
       "    }\n",
       "\n",
       "    .dataframe tbody tr th {\n",
       "        vertical-align: top;\n",
       "    }\n",
       "\n",
       "    .dataframe thead th {\n",
       "        text-align: right;\n",
       "    }\n",
       "</style>\n",
       "<table border=\"1\" class=\"dataframe\">\n",
       "  <thead>\n",
       "    <tr style=\"text-align: right;\">\n",
       "      <th></th>\n",
       "      <th>label</th>\n",
       "    </tr>\n",
       "  </thead>\n",
       "  <tbody>\n",
       "    <tr>\n",
       "      <th>count</th>\n",
       "      <td>174.000000</td>\n",
       "    </tr>\n",
       "    <tr>\n",
       "      <th>mean</th>\n",
       "      <td>1.574713</td>\n",
       "    </tr>\n",
       "    <tr>\n",
       "      <th>std</th>\n",
       "      <td>0.495813</td>\n",
       "    </tr>\n",
       "    <tr>\n",
       "      <th>min</th>\n",
       "      <td>1.000000</td>\n",
       "    </tr>\n",
       "    <tr>\n",
       "      <th>25%</th>\n",
       "      <td>1.000000</td>\n",
       "    </tr>\n",
       "    <tr>\n",
       "      <th>50%</th>\n",
       "      <td>2.000000</td>\n",
       "    </tr>\n",
       "    <tr>\n",
       "      <th>75%</th>\n",
       "      <td>2.000000</td>\n",
       "    </tr>\n",
       "    <tr>\n",
       "      <th>max</th>\n",
       "      <td>2.000000</td>\n",
       "    </tr>\n",
       "  </tbody>\n",
       "</table>\n",
       "</div>"
      ],
      "text/plain": [
       "            label\n",
       "count  174.000000\n",
       "mean     1.574713\n",
       "std      0.495813\n",
       "min      1.000000\n",
       "25%      1.000000\n",
       "50%      2.000000\n",
       "75%      2.000000\n",
       "max      2.000000"
      ]
     },
     "execution_count": 108,
     "metadata": {},
     "output_type": "execute_result"
    }
   ],
   "source": [
    "df.describe()"
   ]
  },
  {
   "cell_type": "code",
   "execution_count": 109,
   "id": "649f8418",
   "metadata": {},
   "outputs": [],
   "source": [
    "x = df['email'].dropna()\n",
    "y = df['label'].dropna()\n",
    "x = x.values\n",
    "y = y.values"
   ]
  },
  {
   "cell_type": "code",
   "execution_count": 122,
   "id": "2aa84967",
   "metadata": {},
   "outputs": [],
   "source": [
    "x_train, x_test, y_train, y_test = train_test_split(x, y, random_state=1, stratify=y, train_size = .75)"
   ]
  },
  {
   "cell_type": "code",
   "execution_count": 123,
   "id": "174fdba1",
   "metadata": {},
   "outputs": [],
   "source": [
    "bernoulli_nb_pipeline = make_pipeline(TfidfVectorizer(\n",
    "        min_df = 2,\n",
    "        ngram_range = (1, 2),\n",
    "        stop_words = 'english',\n",
    "        max_features = 10000,\n",
    "        strip_accents = 'unicode',\n",
    "        norm = 'l2'\n",
    "        ), BernoulliNB(alpha = .001))"
   ]
  },
  {
   "cell_type": "code",
   "execution_count": 124,
   "id": "8704b97e",
   "metadata": {},
   "outputs": [
    {
     "name": "stdout",
     "output_type": "stream",
     "text": [
      "              precision    recall  f1-score   support\n",
      "\n",
      "           1       0.90      0.95      0.92        19\n",
      "           2       0.96      0.92      0.94        25\n",
      "\n",
      "    accuracy                           0.93        44\n",
      "   macro avg       0.93      0.93      0.93        44\n",
      "weighted avg       0.93      0.93      0.93        44\n",
      "\n"
     ]
    }
   ],
   "source": [
    "bernoulli_nb_pipeline.fit(x_train, y_train)\n",
    "y_test_pred = bernoulli_nb_pipeline.predict(x_test)\n",
    "print(classification_report(y_test, y_test_pred))"
   ]
  },
  {
   "cell_type": "code",
   "execution_count": 96,
   "id": "f3588ef1",
   "metadata": {},
   "outputs": [
    {
     "data": {
      "text/plain": [
       "Pipeline(steps=[('tfidfvectorizer',\n",
       "                 TfidfVectorizer(max_features=10000, min_df=2,\n",
       "                                 ngram_range=(1, 2), stop_words='english',\n",
       "                                 strip_accents='unicode')),\n",
       "                ('bernoullinb', BernoulliNB(alpha=0.001))])"
      ]
     },
     "execution_count": 96,
     "metadata": {},
     "output_type": "execute_result"
    }
   ],
   "source": [
    "bernoulli_nb_pipeline.fit(x, y)"
   ]
  },
  {
   "cell_type": "code",
   "execution_count": 97,
   "id": "896f656d",
   "metadata": {},
   "outputs": [
    {
     "data": {
      "text/plain": [
       "['clf.joblib']"
      ]
     },
     "execution_count": 97,
     "metadata": {},
     "output_type": "execute_result"
    }
   ],
   "source": [
    "joblib.dump(bernoulli_nb_pipeline, \"clf.joblib\")"
   ]
  },
  {
   "cell_type": "code",
   "execution_count": 99,
   "id": "07a10189",
   "metadata": {},
   "outputs": [],
   "source": [
    "clf = load('clf.joblib')"
   ]
  },
  {
   "cell_type": "code",
   "execution_count": 100,
   "id": "b4e2f6c1",
   "metadata": {},
   "outputs": [
    {
     "data": {
      "text/plain": [
       "0"
      ]
     },
     "execution_count": 100,
     "metadata": {},
     "output_type": "execute_result"
    }
   ],
   "source": [
    "data_dict = {'text': \"Dear Bevspot Team At your earliest convenience, can I please have John Helms added as a BevSpot user here at Poseidon? His email is jhelms@serggroup.com. He's been CC'd on this email.\"}\n",
    "text = [data_dict['text']]\n",
    "clf.predict(text)[0]"
   ]
  },
  {
   "cell_type": "code",
   "execution_count": null,
   "id": "038439ad",
   "metadata": {},
   "outputs": [],
   "source": []
  }
 ],
 "metadata": {
  "kernelspec": {
   "display_name": "Python 3",
   "language": "python",
   "name": "python3"
  },
  "language_info": {
   "codemirror_mode": {
    "name": "ipython",
    "version": 3
   },
   "file_extension": ".py",
   "mimetype": "text/x-python",
   "name": "python",
   "nbconvert_exporter": "python",
   "pygments_lexer": "ipython3",
   "version": "3.8.8"
  }
 },
 "nbformat": 4,
 "nbformat_minor": 5
}
