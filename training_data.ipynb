{
 "cells": [
  {
   "cell_type": "code",
   "execution_count": 1,
   "id": "e82d1f3b",
   "metadata": {},
   "outputs": [],
   "source": [
    "import pandas as pd\n",
    "import joblib\n",
    "from joblib import load\n",
    "from sklearn.model_selection import train_test_split\n",
    "from sklearn.metrics import classification_report\n",
    "from sklearn.pipeline import make_pipeline\n",
    "from sklearn.feature_extraction.text import TfidfVectorizer\n",
    "import re\n",
    "\n",
    "from sklearn.naive_bayes import BernoulliNB #naive bayes\n",
    "from sklearn import tree #decision tree\n",
    "from sklearn import neural_network"
   ]
  },
  {
   "cell_type": "code",
   "execution_count": 2,
   "id": "ecef44cd",
   "metadata": {},
   "outputs": [],
   "source": [
    "df = pd.read_csv('training_data.csv')"
   ]
  },
  {
   "cell_type": "code",
   "execution_count": null,
   "id": "b3001b24",
   "metadata": {},
   "outputs": [],
   "source": [
    "df.describe()"
   ]
  },
  {
   "cell_type": "code",
   "execution_count": 3,
   "id": "649f8418",
   "metadata": {},
   "outputs": [],
   "source": [
    "df = df.dropna()\n",
    "x = df['data'].values\n",
    "y = df['label'].values\n"
   ]
  },
  {
   "cell_type": "code",
   "execution_count": 4,
   "id": "2aa84967",
   "metadata": {},
   "outputs": [],
   "source": [
    "x_train, x_test, y_train, y_test = train_test_split(x, y, random_state=100, stratify=y, train_size = .8)"
   ]
  },
  {
   "cell_type": "code",
   "execution_count": null,
   "id": "174fdba1",
   "metadata": {},
   "outputs": [],
   "source": [
    "# naive bayes\n",
    "bernoulli_nb_pipeline = make_pipeline(TfidfVectorizer(\n",
    "        min_df = 2,\n",
    "        ngram_range = (1, 2),\n",
    "        #stop_words = 'english',\n",
    "        max_features = 1150,\n",
    "        strip_accents = 'unicode',\n",
    "        norm = 'l2'\n",
    "        ), BernoulliNB(alpha = .001))\n",
    "bernoulli_nb_pipeline.fit(x_train, y_train)\n",
    "y_test_pred = bernoulli_nb_pipeline.predict(x_test)\n",
    "print(classification_report(y_test, y_test_pred))"
   ]
  },
  {
   "cell_type": "code",
   "execution_count": 7,
   "id": "d9c0987f",
   "metadata": {},
   "outputs": [
    {
     "name": "stdout",
     "output_type": "stream",
     "text": [
      "              precision    recall  f1-score   support\n",
      "\n",
      "         1.0       0.90      0.90      0.90        20\n",
      "         2.0       0.96      0.96      0.96        48\n",
      "\n",
      "    accuracy                           0.94        68\n",
      "   macro avg       0.93      0.93      0.93        68\n",
      "weighted avg       0.94      0.94      0.94        68\n",
      "\n"
     ]
    }
   ],
   "source": [
    "# neural network\n",
    "neural_network_pipeline = make_pipeline(TfidfVectorizer(\n",
    "        min_df = 2,\n",
    "        ngram_range = (1, 2),\n",
    "        max_features = 700,\n",
    "        strip_accents = 'unicode',\n",
    "        norm = 'l2'\n",
    "        ), neural_network.MLPClassifier(solver='adam',\n",
    "                                        hidden_layer_sizes=(25,10,5),\n",
    "                                        activation = 'logistic',\n",
    "                                        max_iter = 2000,\n",
    "                                       ))\n",
    "neural_network_pipeline.fit(x_train, y_train)\n",
    "y_test_pred = neural_network_pipeline.predict(x_test)\n",
    "print(classification_report(y_test, y_test_pred))"
   ]
  },
  {
   "cell_type": "code",
   "execution_count": 8,
   "id": "716579d5",
   "metadata": {},
   "outputs": [],
   "source": [
    "neural_network_pipeline.fit(x, y)\n",
    "joblib.dump(neural_network_pipeline, \"clf.joblib\")\n",
    "clf = load('clf.joblib')"
   ]
  },
  {
   "cell_type": "code",
   "execution_count": null,
   "id": "848b3d41",
   "metadata": {},
   "outputs": [],
   "source": [
    "# decision tree\n",
    "decision_tree_pipeline = make_pipeline(TfidfVectorizer(\n",
    "        min_df = 1,\n",
    "        ngram_range = (1, 2),\n",
    "        stop_words = 'english',\n",
    "        max_features = 1150,\n",
    "        strip_accents = 'unicode',\n",
    "        norm = 'l2'\n",
    "        ), tree.DecisionTreeClassifier())\n",
    "decision_tree_pipeline.fit(x_train, y_train)\n",
    "y_test_pred = decision_tree_pipeline.predict(x_test)\n",
    "print(classification_report(y_test, y_test_pred))"
   ]
  },
  {
   "cell_type": "code",
   "execution_count": null,
   "id": "8704b97e",
   "metadata": {},
   "outputs": [],
   "source": []
  },
  {
   "cell_type": "code",
   "execution_count": null,
   "id": "6ca809ef",
   "metadata": {},
   "outputs": [],
   "source": [
    "bernoulli_nb_pipeline.fit(x, y)"
   ]
  },
  {
   "cell_type": "code",
   "execution_count": null,
   "id": "896f656d",
   "metadata": {},
   "outputs": [],
   "source": [
    "joblib.dump(bernoulli_nb_pipeline, \"clf.joblib\")"
   ]
  },
  {
   "cell_type": "code",
   "execution_count": null,
   "id": "07a10189",
   "metadata": {},
   "outputs": [],
   "source": [
    "clf = load('clf.joblib')"
   ]
  },
  {
   "cell_type": "code",
   "execution_count": null,
   "id": "b4e2f6c1",
   "metadata": {},
   "outputs": [],
   "source": [
    "data_dict = {'text': \"Service cancellation . Good afternoon . I&#39;m the new operator at Casa Mezcal . I would like to cancel our membership/service with Bevspot . We no longer use this app. Please confirm when it is done. I will block any\"}\n",
    "text = [data_dict['text']]\n",
    "clf.predict(text)[0]"
   ]
  },
  {
   "cell_type": "code",
   "execution_count": null,
   "id": "038439ad",
   "metadata": {},
   "outputs": [],
   "source": [
    "1 == 1.0"
   ]
  },
  {
   "cell_type": "code",
   "execution_count": null,
   "id": "86e48c6c",
   "metadata": {},
   "outputs": [],
   "source": []
  }
 ],
 "metadata": {
  "kernelspec": {
   "display_name": "Python 3",
   "language": "python",
   "name": "python3"
  },
  "language_info": {
   "codemirror_mode": {
    "name": "ipython",
    "version": 3
   },
   "file_extension": ".py",
   "mimetype": "text/x-python",
   "name": "python",
   "nbconvert_exporter": "python",
   "pygments_lexer": "ipython3",
   "version": "3.8.8"
  }
 },
 "nbformat": 4,
 "nbformat_minor": 5
}
