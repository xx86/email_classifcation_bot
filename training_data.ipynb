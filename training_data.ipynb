{
 "cells": [
  {
   "cell_type": "code",
   "execution_count": 1,
   "id": "e82d1f3b",
   "metadata": {},
   "outputs": [],
   "source": [
    "import pandas as pd\n",
    "import joblib\n",
    "from joblib import load\n",
    "from sklearn.model_selection import train_test_split\n",
    "from sklearn.metrics import classification_report\n",
    "from sklearn.pipeline import make_pipeline\n",
    "from sklearn.feature_extraction.text import TfidfVectorizer\n",
    "import re\n",
    "\n",
    "from sklearn.naive_bayes import BernoulliNB #naive bayes\n",
    "from sklearn import tree #decision tree\n",
    "from sklearn import neural_network"
   ]
  },
  {
   "cell_type": "code",
   "execution_count": 5,
   "id": "ecef44cd",
   "metadata": {},
   "outputs": [],
   "source": [
    "df = pd.read_csv('training_data.csv')"
   ]
  },
  {
   "cell_type": "code",
   "execution_count": 3,
   "id": "b3001b24",
   "metadata": {},
   "outputs": [
    {
     "data": {
      "text/html": [
       "<div>\n",
       "<style scoped>\n",
       "    .dataframe tbody tr th:only-of-type {\n",
       "        vertical-align: middle;\n",
       "    }\n",
       "\n",
       "    .dataframe tbody tr th {\n",
       "        vertical-align: top;\n",
       "    }\n",
       "\n",
       "    .dataframe thead th {\n",
       "        text-align: right;\n",
       "    }\n",
       "</style>\n",
       "<table border=\"1\" class=\"dataframe\">\n",
       "  <thead>\n",
       "    <tr style=\"text-align: right;\">\n",
       "      <th></th>\n",
       "      <th>1</th>\n",
       "    </tr>\n",
       "  </thead>\n",
       "  <tbody>\n",
       "    <tr>\n",
       "      <th>count</th>\n",
       "      <td>294.000000</td>\n",
       "    </tr>\n",
       "    <tr>\n",
       "      <th>mean</th>\n",
       "      <td>1.673469</td>\n",
       "    </tr>\n",
       "    <tr>\n",
       "      <th>std</th>\n",
       "      <td>0.469743</td>\n",
       "    </tr>\n",
       "    <tr>\n",
       "      <th>min</th>\n",
       "      <td>1.000000</td>\n",
       "    </tr>\n",
       "    <tr>\n",
       "      <th>25%</th>\n",
       "      <td>1.000000</td>\n",
       "    </tr>\n",
       "    <tr>\n",
       "      <th>50%</th>\n",
       "      <td>2.000000</td>\n",
       "    </tr>\n",
       "    <tr>\n",
       "      <th>75%</th>\n",
       "      <td>2.000000</td>\n",
       "    </tr>\n",
       "    <tr>\n",
       "      <th>max</th>\n",
       "      <td>2.000000</td>\n",
       "    </tr>\n",
       "  </tbody>\n",
       "</table>\n",
       "</div>"
      ],
      "text/plain": [
       "                1\n",
       "count  294.000000\n",
       "mean     1.673469\n",
       "std      0.469743\n",
       "min      1.000000\n",
       "25%      1.000000\n",
       "50%      2.000000\n",
       "75%      2.000000\n",
       "max      2.000000"
      ]
     },
     "execution_count": 3,
     "metadata": {},
     "output_type": "execute_result"
    }
   ],
   "source": [
    "df.describe()"
   ]
  },
  {
   "cell_type": "code",
   "execution_count": 6,
   "id": "649f8418",
   "metadata": {},
   "outputs": [],
   "source": [
    "df = df.dropna()\n",
    "x = df['data'].values\n",
    "y = df['label'].values\n"
   ]
  },
  {
   "cell_type": "code",
   "execution_count": 10,
   "id": "240e90aa",
   "metadata": {},
   "outputs": [
    {
     "data": {
      "text/html": [
       "<div>\n",
       "<style scoped>\n",
       "    .dataframe tbody tr th:only-of-type {\n",
       "        vertical-align: middle;\n",
       "    }\n",
       "\n",
       "    .dataframe tbody tr th {\n",
       "        vertical-align: top;\n",
       "    }\n",
       "\n",
       "    .dataframe thead th {\n",
       "        text-align: right;\n",
       "    }\n",
       "</style>\n",
       "<table border=\"1\" class=\"dataframe\">\n",
       "  <thead>\n",
       "    <tr style=\"text-align: right;\">\n",
       "      <th></th>\n",
       "      <th>label</th>\n",
       "      <th>data</th>\n",
       "    </tr>\n",
       "  </thead>\n",
       "  <tbody>\n",
       "    <tr>\n",
       "      <th>0</th>\n",
       "      <td>1</td>\n",
       "      <td>Access- Ryan Hinz Aloha, May we have access fo...</td>\n",
       "    </tr>\n",
       "    <tr>\n",
       "      <th>1</th>\n",
       "      <td>1</td>\n",
       "      <td>Account We spoke with someone a few weeks ago ...</td>\n",
       "    </tr>\n",
       "    <tr>\n",
       "      <th>2</th>\n",
       "      <td>1</td>\n",
       "      <td>Addition to email Hey guys, I need to add chri...</td>\n",
       "    </tr>\n",
       "    <tr>\n",
       "      <th>3</th>\n",
       "      <td>1</td>\n",
       "      <td>Bevspot Access Aloha, Requesting access for Ve...</td>\n",
       "    </tr>\n",
       "    <tr>\n",
       "      <th>4</th>\n",
       "      <td>1</td>\n",
       "      <td>BevSpot Account Aloha, We are unable to access...</td>\n",
       "    </tr>\n",
       "    <tr>\n",
       "      <th>...</th>\n",
       "      <td>...</td>\n",
       "      <td>...</td>\n",
       "    </tr>\n",
       "    <tr>\n",
       "      <th>290</th>\n",
       "      <td>2</td>\n",
       "      <td>Re: Francisco Fabara has invited you to BevSpo...</td>\n",
       "    </tr>\n",
       "    <tr>\n",
       "      <th>291</th>\n",
       "      <td>2</td>\n",
       "      <td>RE: HER FOOD -- How are you supporting Her? Yo...</td>\n",
       "    </tr>\n",
       "    <tr>\n",
       "      <th>292</th>\n",
       "      <td>2</td>\n",
       "      <td>Re: Your order for Chevalier Theatre: Beverage...</td>\n",
       "    </tr>\n",
       "    <tr>\n",
       "      <th>293</th>\n",
       "      <td>2</td>\n",
       "      <td>Re: Your order for HOBNOB- Halcyon: Beverage h...</td>\n",
       "    </tr>\n",
       "    <tr>\n",
       "      <th>294</th>\n",
       "      <td>2</td>\n",
       "      <td>Re: Your order for Michael Anthony's Cucina It...</td>\n",
       "    </tr>\n",
       "  </tbody>\n",
       "</table>\n",
       "<p>295 rows × 2 columns</p>\n",
       "</div>"
      ],
      "text/plain": [
       "     label                                               data\n",
       "0        1  Access- Ryan Hinz Aloha, May we have access fo...\n",
       "1        1  Account We spoke with someone a few weeks ago ...\n",
       "2        1  Addition to email Hey guys, I need to add chri...\n",
       "3        1  Bevspot Access Aloha, Requesting access for Ve...\n",
       "4        1  BevSpot Account Aloha, We are unable to access...\n",
       "..     ...                                                ...\n",
       "290      2  Re: Francisco Fabara has invited you to BevSpo...\n",
       "291      2  RE: HER FOOD -- How are you supporting Her? Yo...\n",
       "292      2  Re: Your order for Chevalier Theatre: Beverage...\n",
       "293      2  Re: Your order for HOBNOB- Halcyon: Beverage h...\n",
       "294      2  Re: Your order for Michael Anthony's Cucina It...\n",
       "\n",
       "[295 rows x 2 columns]"
      ]
     },
     "execution_count": 10,
     "metadata": {},
     "output_type": "execute_result"
    }
   ],
   "source": [
    "df"
   ]
  },
  {
   "cell_type": "code",
   "execution_count": 40,
   "id": "2aa84967",
   "metadata": {},
   "outputs": [],
   "source": [
    "x_train, x_test, y_train, y_test = train_test_split(x, y, random_state=1, stratify=y, train_size = .75)"
   ]
  },
  {
   "cell_type": "code",
   "execution_count": 41,
   "id": "174fdba1",
   "metadata": {},
   "outputs": [
    {
     "name": "stdout",
     "output_type": "stream",
     "text": [
      "              precision    recall  f1-score   support\n",
      "\n",
      "           1       0.82      0.75      0.78        24\n",
      "           2       0.88      0.92      0.90        50\n",
      "\n",
      "    accuracy                           0.86        74\n",
      "   macro avg       0.85      0.83      0.84        74\n",
      "weighted avg       0.86      0.86      0.86        74\n",
      "\n"
     ]
    }
   ],
   "source": [
    "# naive bayes\n",
    "bernoulli_nb_pipeline = make_pipeline(TfidfVectorizer(\n",
    "        min_df = 2,\n",
    "        ngram_range = (1, 2),\n",
    "        stop_words = 'english',\n",
    "        max_features = 800,\n",
    "        strip_accents = 'unicode',\n",
    "        norm = 'l2'\n",
    "        ), BernoulliNB(alpha = .00001))\n",
    "bernoulli_nb_pipeline.fit(x_train, y_train)\n",
    "y_test_pred = bernoulli_nb_pipeline.predict(x_test)\n",
    "print(classification_report(y_test, y_test_pred))"
   ]
  },
  {
   "cell_type": "code",
   "execution_count": 43,
   "id": "d9c0987f",
   "metadata": {},
   "outputs": [
    {
     "name": "stdout",
     "output_type": "stream",
     "text": [
      "              precision    recall  f1-score   support\n",
      "\n",
      "           1       0.85      0.92      0.88        24\n",
      "           2       0.96      0.92      0.94        50\n",
      "\n",
      "    accuracy                           0.92        74\n",
      "   macro avg       0.90      0.92      0.91        74\n",
      "weighted avg       0.92      0.92      0.92        74\n",
      "\n"
     ]
    }
   ],
   "source": [
    "# neural network\n",
    "neural_network_pipeline = make_pipeline(TfidfVectorizer(\n",
    "        min_df = 2,\n",
    "        ngram_range = (1, 2),\n",
    "        #stop_words = 'english',\n",
    "        max_features = 2000,\n",
    "        strip_accents = 'unicode',\n",
    "        norm = 'l2'\n",
    "        ), neural_network.MLPClassifier(solver='adam',\n",
    "                                        hidden_layer_sizes=(10,10,5),\n",
    "                                        activation = 'logistic',\n",
    "                                        max_iter = 2000,\n",
    "                                       ))\n",
    "neural_network_pipeline.fit(x_train, y_train)\n",
    "y_test_pred = neural_network_pipeline.predict(x_test)\n",
    "print(classification_report(y_test, y_test_pred))"
   ]
  },
  {
   "cell_type": "code",
   "execution_count": 44,
   "id": "716579d5",
   "metadata": {},
   "outputs": [],
   "source": [
    "neural_network_pipeline.fit(x, y)\n",
    "joblib.dump(neural_network_pipeline, \"clf.joblib\")\n",
    "clf = load('clf.joblib')"
   ]
  },
  {
   "cell_type": "code",
   "execution_count": null,
   "id": "848b3d41",
   "metadata": {},
   "outputs": [],
   "source": [
    "# decision tree\n",
    "decision_tree_pipeline = make_pipeline(TfidfVectorizer(\n",
    "        min_df = 1,\n",
    "        ngram_range = (1, 2),\n",
    "        stop_words = 'english',\n",
    "        max_features = 1150,\n",
    "        strip_accents = 'unicode',\n",
    "        norm = 'l2'\n",
    "        ), tree.DecisionTreeClassifier())\n",
    "decision_tree_pipeline.fit(x_train, y_train)\n",
    "y_test_pred = decision_tree_pipeline.predict(x_test)\n",
    "print(classification_report(y_test, y_test_pred))"
   ]
  },
  {
   "cell_type": "code",
   "execution_count": null,
   "id": "8704b97e",
   "metadata": {},
   "outputs": [],
   "source": []
  },
  {
   "cell_type": "code",
   "execution_count": null,
   "id": "6ca809ef",
   "metadata": {},
   "outputs": [],
   "source": [
    "bernoulli_nb_pipeline.fit(x, y)"
   ]
  },
  {
   "cell_type": "code",
   "execution_count": null,
   "id": "896f656d",
   "metadata": {},
   "outputs": [],
   "source": [
    "joblib.dump(bernoulli_nb_pipeline, \"clf.joblib\")"
   ]
  },
  {
   "cell_type": "code",
   "execution_count": null,
   "id": "07a10189",
   "metadata": {},
   "outputs": [],
   "source": [
    "clf = load('clf.joblib')"
   ]
  },
  {
   "cell_type": "code",
   "execution_count": null,
   "id": "b4e2f6c1",
   "metadata": {},
   "outputs": [],
   "source": [
    "data_dict = {'text': \"Service cancellation . Good afternoon . I&#39;m the new operator at Casa Mezcal . I would like to cancel our membership/service with Bevspot . We no longer use this app. Please confirm when it is done. I will block any\"}\n",
    "text = [data_dict['text']]\n",
    "clf.predict(text)[0]"
   ]
  },
  {
   "cell_type": "code",
   "execution_count": null,
   "id": "038439ad",
   "metadata": {},
   "outputs": [],
   "source": [
    "1 == 1.0"
   ]
  },
  {
   "cell_type": "code",
   "execution_count": null,
   "id": "86e48c6c",
   "metadata": {},
   "outputs": [],
   "source": []
  }
 ],
 "metadata": {
  "kernelspec": {
   "display_name": "Python 3",
   "language": "python",
   "name": "python3"
  },
  "language_info": {
   "codemirror_mode": {
    "name": "ipython",
    "version": 3
   },
   "file_extension": ".py",
   "mimetype": "text/x-python",
   "name": "python",
   "nbconvert_exporter": "python",
   "pygments_lexer": "ipython3",
   "version": "3.8.8"
  }
 },
 "nbformat": 4,
 "nbformat_minor": 5
}
